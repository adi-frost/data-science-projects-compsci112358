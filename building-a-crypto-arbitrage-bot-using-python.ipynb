{
 "cells": [
  {
   "cell_type": "markdown",
   "id": "b774cfc5-4997-45bd-ad68-b2a5a5d0dbd0",
   "metadata": {},
   "source": [
    "## Building a crypto arbitrage bot"
   ]
  },
  {
   "cell_type": "code",
   "execution_count": 2,
   "id": "596b2e98-6267-4028-b2df-9ec74c483e67",
   "metadata": {},
   "outputs": [],
   "source": [
    "# Importing the libraries\n",
    "import requests\n",
    "import pandas as pd"
   ]
  },
  {
   "cell_type": "code",
   "execution_count": 3,
   "id": "1a540c49-0501-4298-bda6-c47a8b938d39",
   "metadata": {},
   "outputs": [],
   "source": [
    "# Define cryptocurrency exchanges and API endpoints to fetch Bitcoin price data\n",
    "EXCHANGES = {\n",
    "    \"Bitstamp\": \"https://www.bitstamp.net/api/v2/ticker/btcusd/\",\n",
    "    \"Coinbase\": \"https://api.coinbase.com/v2/prices/BTC-USD/spot\",\n",
    "    \"Kraken\": \"https://api.kraken.com/0/public/Ticker?pair=XBTUSD\"\n",
    "}"
   ]
  },
  {
   "cell_type": "code",
   "execution_count": 12,
   "id": "eb2ec84d-8cbd-489d-9ddb-edf00d01998c",
   "metadata": {},
   "outputs": [],
   "source": [
    "# Function to fetch the latest BTC price from each exchange\n",
    "def get_price(exchange_name, url):\n",
    "    try:\n",
    "        response = requests.get(url)\n",
    "        data = response.json()\n",
    "\n",
    "        # Extract bitcoins price based on the exchange format differences\n",
    "        if exchange_name == 'Bitstamp':\n",
    "            return float(data['last'])\n",
    "        elif exchange_name == 'Coinbase':\n",
    "            return float(data['data']['amount'])\n",
    "        elif exchange_name == 'Kraken':\n",
    "            return float(data['result']['XXBTZUSD']['c'][0])\n",
    "    except Exception as e:\n",
    "        print(f\"Error fetching price from {exchange_name}: {e}\")\n",
    "        return None"
   ]
  },
  {
   "cell_type": "code",
   "execution_count": 9,
   "id": "513eaee9-5e48-4234-af6d-1f6c530ae569",
   "metadata": {},
   "outputs": [],
   "source": [
    "# Function to detect arbitrage opportunities\n",
    "def detect_arbitrage():\n",
    "    # Dictionary comprehension: Fetch price data for each exchange and store in a dictionary\n",
    "    prices = {exchange: get_price(exchange_name=exchange, url=url) for exchange, url in EXCHANGES.items()}\n",
    "\n",
    "    # Convert the dictionary into a pandas dataframe\n",
    "    df = pd.DataFrame(list(prices.items()), columns=['Exchange', 'Price'])\n",
    "\n",
    "    # Identify the lowest and highest price from the exchanges\n",
    "    min_price = df['Price'].min()\n",
    "    max_price = df['Price'].max()\n",
    "\n",
    "    # Calculate the potential profit\n",
    "    profit_potential = max_price - min_price\n",
    "\n",
    "    # Print the price comparison table\n",
    "    print(\"\\nLive Crypto Prices:\")\n",
    "    print(df)\n",
    "\n",
    "    # Determine if arbitrage is profitable based on a threshold (set to $1 for this example)\n",
    "    if profit_potential >= 1:\n",
    "        print(f\"\\nArbitrage opportunity found! Buy at ${min_price}, Sell at ${max_price}, Potential profit: ${profit_potential:.2f}\")\n",
    "    else:\n",
    "        print(\"\\nNo arbitrage opportunity found.\")"
   ]
  },
  {
   "cell_type": "code",
   "execution_count": 16,
   "id": "a5615fbe-a697-4ee4-814d-d347c0f0bdc7",
   "metadata": {},
   "outputs": [
    {
     "name": "stdout",
     "output_type": "stream",
     "text": [
      "\n",
      "Live Crypto Prices:\n",
      "   Exchange       Price\n",
      "0  Bitstamp  118753.000\n",
      "1  Coinbase  118779.215\n",
      "2    Kraken  118784.100\n",
      "\n",
      "Arbitrage opportunity found! Buy at $118753.0, Sell at $118784.1, Potential profit: $31.10\n"
     ]
    }
   ],
   "source": [
    "detect_arbitrage()"
   ]
  },
  {
   "cell_type": "code",
   "execution_count": null,
   "id": "9b002efd-bf63-417f-8352-1a897538232f",
   "metadata": {},
   "outputs": [],
   "source": []
  },
  {
   "cell_type": "code",
   "execution_count": null,
   "id": "a599c3b5-895b-420d-a23e-ccb7a71c1d7c",
   "metadata": {},
   "outputs": [],
   "source": []
  },
  {
   "cell_type": "code",
   "execution_count": null,
   "id": "fe28a69f-7537-4fab-a44f-63a14786debe",
   "metadata": {},
   "outputs": [],
   "source": []
  }
 ],
 "metadata": {
  "kernelspec": {
   "display_name": "Python 3 (ipykernel)",
   "language": "python",
   "name": "python3"
  },
  "language_info": {
   "codemirror_mode": {
    "name": "ipython",
    "version": 3
   },
   "file_extension": ".py",
   "mimetype": "text/x-python",
   "name": "python",
   "nbconvert_exporter": "python",
   "pygments_lexer": "ipython3",
   "version": "3.10.18"
  }
 },
 "nbformat": 4,
 "nbformat_minor": 5
}
