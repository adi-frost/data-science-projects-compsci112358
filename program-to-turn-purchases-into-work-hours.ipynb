{
 "cells": [
  {
   "cell_type": "markdown",
   "id": "506fa79d-6d38-4f5a-97b6-f7a79785286f",
   "metadata": {},
   "source": [
    "## Program to turn purchases into work hours"
   ]
  },
  {
   "cell_type": "code",
   "execution_count": 6,
   "id": "f27e7ec3-a597-4e5a-bf34-de8d7687079f",
   "metadata": {},
   "outputs": [],
   "source": [
    "# Define a function to handle user input and calculate the time cost\n",
    "def calculate_time_spent():\n",
    "    try:\n",
    "        # Ask the user for the purchase amount in USD\n",
    "        cost = float(input(\"Enter the cost of your purchase in dollars: $\"))\n",
    "\n",
    "        # Ask whether the user earns hourly or annually\n",
    "        wage_type = input(\"Do you earn hourly or annually?\").strip().lower()\n",
    "\n",
    "        # If they earn hourly, request hourly wage and computer hours spent\n",
    "        if wage_type =='hourly':\n",
    "            hourly_wage = float(input(\"Enter your hourly wage: $\"))\n",
    "            hours_spent = cost / hourly_wage\n",
    "            # print(f\"You spent {hours_spent: .2f} hours on this purchase.\")\n",
    "        \n",
    "        # If they earn annually, then request the salary and convert it to an hourly wage\n",
    "        elif wage_type == 'annually':\n",
    "            annual_salary = float(input(\"Enter your annual salary: $\"))\n",
    "            hourly_wage = annual_salary / (52*40)\n",
    "            hours_spent = cost / hourly_wage\n",
    "\n",
    "        # Handle any invalid input \n",
    "        else:\n",
    "            print(\"Invalid input. Please enter 'hourly' or 'annually'.\")\n",
    "            return\n",
    "\n",
    "        # Convert the total hours into hours and minutes\n",
    "        total_minutes = hours_spent * 60\n",
    "        hours = int(total_minutes // 60)\n",
    "        minutes = int(total_minutes % 60)\n",
    "        print(f\"That purchase will cost you approximately {hours} hours and {minutes} minutes of work.\")\n",
    "    except ValueError:\n",
    "        print(\"Invalid input. Please enter a valid number.\")\n",
    "        \n",
    "        # Print the result\n",
    "        print(f\"You spent {hours_spent:.2f} hours on this purchase.\")"
   ]
  },
  {
   "cell_type": "code",
   "execution_count": 9,
   "id": "ee341e50-c689-41eb-96ce-e7b84d538066",
   "metadata": {},
   "outputs": [
    {
     "name": "stdin",
     "output_type": "stream",
     "text": [
      "Enter the cost of your purchase in dollars: $ 500\n",
      "Do you earn hourly or annually? annually\n",
      "Enter your annual salary: $ 40000\n"
     ]
    },
    {
     "name": "stdout",
     "output_type": "stream",
     "text": [
      "That purchase will cost you approximately 26 hours and 0 minutes of work.\n"
     ]
    }
   ],
   "source": [
    "# Call the function to run the program \n",
    "calculate_time_spent()"
   ]
  },
  {
   "cell_type": "code",
   "execution_count": null,
   "id": "c1bb5e7f-3afd-43bd-ae6f-f4ccd827050b",
   "metadata": {},
   "outputs": [],
   "source": []
  }
 ],
 "metadata": {
  "kernelspec": {
   "display_name": "Python 3 (ipykernel)",
   "language": "python",
   "name": "python3"
  },
  "language_info": {
   "codemirror_mode": {
    "name": "ipython",
    "version": 3
   },
   "file_extension": ".py",
   "mimetype": "text/x-python",
   "name": "python",
   "nbconvert_exporter": "python",
   "pygments_lexer": "ipython3",
   "version": "3.10.16"
  }
 },
 "nbformat": 4,
 "nbformat_minor": 5
}
